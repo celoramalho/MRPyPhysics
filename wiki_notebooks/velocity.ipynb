{
 "cells": [
  {
   "cell_type": "code",
   "execution_count": 2,
   "metadata": {},
   "outputs": [],
   "source": [
    "import sys\n",
    "import os\n",
    "sys.path.append(os.path.abspath(os.path.join(os.getcwd(), '..')))\n",
    "from mrpyphysics.mrpyphysics import MRPyPhysics"
   ]
  },
  {
   "cell_type": "code",
   "execution_count": 3,
   "metadata": {},
   "outputs": [],
   "source": [
    "mrpp = MRPyPhysics()"
   ]
  },
  {
   "cell_type": "markdown",
   "metadata": {},
   "source": [
    "# Average Velocity in Kinematics\n",
    "\n",
    "## What is Average Velocity?\n",
    "\n",
    "Average Velocity is a measure of how quickly an object changes its position over a given period of time. It is calculated by dividing the **displacement** (change in position) by the **time interval** during which the displacement occurs.\n",
    "\n",
    "### Formula:\n",
    "\n",
    "The formula for average Velocity is:\n",
    "\n",
    "$$\n",
    "v_{\\text{avg}} = \\frac{\\Delta s}{\\Delta t}\n",
    "$$\n",
    "\n",
    "Where:\n",
    "\n",
    "- \\(v_{\\text{avg}}\\) = Average Velocity (measured in meters per second, \\(m/s\\)).\n",
    "- \\(\\Δd\\) = Displacement (the change in position, measured in meters, \\(m\\)).\n",
    "- \\(\\Δt\\) = Time interval (measured in seconds, \\(s\\)).\n",
    "\n",
    "---\n",
    "\n",
    "## Key Concepts:\n",
    "\n",
    "### Displacement Δs:\n",
    "Displacement is the shortest displacement between the initial and final positions of an object, considering the direction. It is a **vector quantity**, meaning it has both magnitude and direction.\n",
    "\n",
    "### Time Interval Δt:\n",
    "The time interval is the amount of time taken for the displacement to occur. It is a **scalar quantity**, meaning it only has magnitude.\n",
    "\n",
    "### Average Velocity (v_avg):\n",
    "Average Velocity considers the direction of motion and is a **vector quantity**. If the object moves in a straight line without changing direction, the magnitude of the average Velocity is the same as the average Velocity.\n",
    "\n",
    "---\n",
    "\n",
    "## Example Calculation:\n",
    "\n",
    "A car travels from Point A to Point B, a displacement of 100 meters, in 10 seconds. The average Velocity is calculated as:\n",
    "\n",
    "$$\n",
    "v_{\\text{avg}} = \\frac{\\Delta s}{\\Delta t} = \\frac{100}{10} = 10 \\, m/s\n",
    "$$\n",
    "\n",
    "This means the car's average Velocity is \\(10 \\, m/s\\) in the direction of displacement.\n",
    "\n",
    "---\n"
   ]
  },
  {
   "cell_type": "code",
   "execution_count": null,
   "metadata": {},
   "outputs": [
    {
     "data": {
      "text/plain": [
       "10.0"
      ]
     },
     "execution_count": 5,
     "metadata": {},
     "output_type": "execute_result"
    }
   ],
   "source": [
    "mrpp.calculate_average_velocity(displacement = mrpp.meters(100), time_interval = mrpp.seconds(10))"
   ]
  }
 ],
 "metadata": {
  "kernelspec": {
   "display_name": "Python 3",
   "language": "python",
   "name": "python3"
  },
  "language_info": {
   "codemirror_mode": {
    "name": "ipython",
    "version": 3
   },
   "file_extension": ".py",
   "mimetype": "text/x-python",
   "name": "python",
   "nbconvert_exporter": "python",
   "pygments_lexer": "ipython3",
   "version": "3.10.12"
  }
 },
 "nbformat": 4,
 "nbformat_minor": 2
}
