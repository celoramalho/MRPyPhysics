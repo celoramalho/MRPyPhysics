{
 "cells": [
  {
   "cell_type": "code",
   "execution_count": 1,
   "metadata": {},
   "outputs": [],
   "source": [
    "import sys\n",
    "import os\n",
    "sys.path.append(os.path.abspath(os.path.join(os.getcwd(), '..')))\n",
    "from mrpyphysics.mrpyphysics import MRPyPhysics\n",
    "from mrpyphysics.unit import Unit as unit"
   ]
  },
  {
   "cell_type": "code",
   "execution_count": 2,
   "metadata": {},
   "outputs": [],
   "source": [
    "mrpp = MRPyPhysics()"
   ]
  },
  {
   "cell_type": "code",
   "execution_count": 3,
   "metadata": {},
   "outputs": [],
   "source": [
    "segundos = mrpp.unit(10, \"s\")"
   ]
  },
  {
   "cell_type": "code",
   "execution_count": 4,
   "metadata": {},
   "outputs": [
    {
     "data": {
      "text/plain": [
       "0.16666666666666666"
      ]
     },
     "execution_count": 4,
     "metadata": {},
     "output_type": "execute_result"
    }
   ],
   "source": [
    "segundos.to_unit(\"min\")"
   ]
  },
  {
   "cell_type": "code",
   "execution_count": 5,
   "metadata": {},
   "outputs": [],
   "source": [
    "km = unit(1, \"km\")"
   ]
  },
  {
   "cell_type": "code",
   "execution_count": 6,
   "metadata": {},
   "outputs": [
    {
     "name": "stdout",
     "output_type": "stream",
     "text": [
      "1 km\n"
     ]
    }
   ],
   "source": [
    "print(km)"
   ]
  },
  {
   "cell_type": "code",
   "execution_count": 10,
   "metadata": {},
   "outputs": [
    {
     "data": {
      "text/plain": [
       "('mm',\n",
       " 'cm',\n",
       " 'm',\n",
       " 'km',\n",
       " 'in',\n",
       " 'ft',\n",
       " 'yd',\n",
       " 'mi',\n",
       " 'nmi',\n",
       " 'ms',\n",
       " 'µs',\n",
       " 'ns',\n",
       " 's',\n",
       " 'min',\n",
       " 'h',\n",
       " 'd',\n",
       " 'wk',\n",
       " 'mo',\n",
       " 'yr',\n",
       " 'mm²',\n",
       " 'cm²',\n",
       " 'm²',\n",
       " 'km²',\n",
       " 'ha',\n",
       " 'ac',\n",
       " 'in²',\n",
       " 'ft²',\n",
       " 'yd²',\n",
       " 'mi²',\n",
       " 'm/s',\n",
       " 'km/h',\n",
       " 'mph',\n",
       " 'ft/s',\n",
       " 'kn',\n",
       " 'm/s²',\n",
       " 'ft/s²',\n",
       " 'g',\n",
       " 'µg',\n",
       " 'mg',\n",
       " 'kg',\n",
       " 't',\n",
       " 'lb',\n",
       " 'oz',\n",
       " 'st',\n",
       " 'lt')"
      ]
     },
     "execution_count": 10,
     "metadata": {},
     "output_type": "execute_result"
    }
   ],
   "source": [
    "unit.valid_units()"
   ]
  },
  {
   "cell_type": "code",
   "execution_count": null,
   "metadata": {},
   "outputs": [],
   "source": []
  }
 ],
 "metadata": {
  "kernelspec": {
   "display_name": "Python 3",
   "language": "python",
   "name": "python3"
  },
  "language_info": {
   "codemirror_mode": {
    "name": "ipython",
    "version": 3
   },
   "file_extension": ".py",
   "mimetype": "text/x-python",
   "name": "python",
   "nbconvert_exporter": "python",
   "pygments_lexer": "ipython3",
   "version": "3.10.12"
  }
 },
 "nbformat": 4,
 "nbformat_minor": 2
}
