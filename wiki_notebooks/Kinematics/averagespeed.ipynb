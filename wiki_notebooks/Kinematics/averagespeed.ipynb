{
 "cells": [
  {
   "cell_type": "code",
   "execution_count": 1,
   "metadata": {},
   "outputs": [],
   "source": [
    "import sys\n",
    "import os\n",
    "sys.path.append(os.path.abspath(os.path.join(os.getcwd(), '../..')))\n",
    "from mrpyphysics.mrpyphysics import MRPyPhysics\n",
    "from mrpyphysics.mrpyphysics import Unit"
   ]
  },
  {
   "cell_type": "code",
   "execution_count": 2,
   "metadata": {},
   "outputs": [],
   "source": [
    "mrpp = MRPyPhysics\n",
    "unit = Unit"
   ]
  },
  {
   "cell_type": "markdown",
   "metadata": {},
   "source": [
    "# Average Speed\n",
    "\n",
    "**Definition:**  \n",
    "Average speed is a scalar quantity that represents the total distance traveled divided by the total time taken. It measures how fast an object is moving without considering the direction of motion.\n",
    "\n",
    "---\n",
    "\n",
    "## **Formula**\n",
    "\n",
    "$$\n",
    "\\text{Average Speed} = \\frac{\\text{Total Distance}}{\\text{Total Time}}\n",
    "$$\n",
    "or\n",
    "$$\n",
    "v = \\frac{d}{t}\n",
    "$$\n",
    "\n",
    "Where:\n",
    "- $ \\text{Average Speed} $: The average rate of motion over the total time (e.g., $ m/s $).\n",
    "- $ \\text{Total Distance} $: The total path length covered during the journey (e.g., $ m $).\n",
    "- $ \\text{Total Time} $: The total time taken to travel the distance (e.g., $ s $).\n",
    "\n",
    "---\n",
    "\n",
    "## **Key Characteristics**\n",
    "\n",
    "1. **Scalar Quantity:**  \n",
    "   Average speed only considers magnitude, not direction.\n",
    "\n",
    "2. **Always Positive:**  \n",
    "   Since distance is always positive, average speed is also always positive.\n",
    "\n",
    "3. **Independent of Direction:**  \n",
    "   It measures the rate of motion irrespective of the path's direction.\n",
    "\n",
    "---\n",
    "\n",
    "## **Example**\n",
    "\n",
    "A car travels \\(100 \\, m\\) in \\(10 \\, s\\), then another \\(50 \\, m\\) in \\(5 \\, s\\). What is the average speed?\n",
    "\n",
    "**Step 1: Calculate Total Distance**  \n",
    "$$\n",
    "\\text{Total Distance} = 100 \\, m + 50 \\, m = 150 \\, m\n",
    "$$\n",
    "\n",
    "**Step 2: Calculate Total Time**  \n",
    "$$\n",
    "\\text{Total Time} = 10 \\, s + 5 \\, s = 15 \\, s\n",
    "$$\n",
    "\n",
    "**Step 3: Apply the Formula**  \n",
    "$$\n",
    "\\text{Average Speed} = \\frac{\\text{Total Distance}}{\\text{Total Time}} = \\frac{150 \\, m}{15 \\, s} = 10 \\, m/s\n",
    "$$\n",
    "\n",
    "**Answer:**  \n",
    "The average speed is \\(10 \\, m/s\\).\n",
    "\n",
    "---\n",
    "\n",
    "## **Differences Between Average Speed and Average Velocity**\n",
    "\n",
    "1. **Average Speed:**\n",
    "   - Measures the total distance divided by total time.\n",
    "   - Always positive.\n",
    "   - Scalar quantity (no direction).\n",
    "\n",
    "2. **Average Velocity:**\n",
    "   - Measures the total displacement divided by total time.\n",
    "   - Can be positive, negative, or zero.\n",
    "   - Vector quantity (magnitude and direction considered).\n",
    "\n",
    "---\n",
    "\n",
    "## **Practical Applications**\n",
    "\n",
    "- **Sports:** Calculating an athlete's performance in races.\n",
    "- **Travel:** Estimating travel time based on distance and average speed.\n",
    "- **Physics:** Analyzing motion in kinematics without considering direction.\n"
   ]
  },
  {
   "cell_type": "markdown",
   "metadata": {},
   "source": [
    "## Examples for Speed Formula \n",
    "$ v = \\frac{d}{t} $\n",
    "\n",
    "### **Question 1**\n",
    "A car travels a total distance of $150 \\, \\text{m}$ in $10 \\, \\text{s}$. What is its speed?\n"
   ]
  },
  {
   "cell_type": "code",
   "execution_count": 3,
   "metadata": {},
   "outputs": [
    {
     "name": "stdout",
     "output_type": "stream",
     "text": [
      "15.0 m/s\n"
     ]
    }
   ],
   "source": [
    "distance = unit(150, 'm')\n",
    "time = unit(10, 's')\n",
    "speed = mrpp.AverageSpeed.calculate(distance=distance, time=time)\n",
    "print(speed)"
   ]
  },
  {
   "cell_type": "markdown",
   "metadata": {},
   "source": [
    "### **Question 2**\n",
    "A runner completes a distance of $400 \\, \\text{m}$ in $50 \\, \\text{s}$. Calculate the runner's speed.\n"
   ]
  },
  {
   "cell_type": "code",
   "execution_count": 4,
   "metadata": {},
   "outputs": [
    {
     "name": "stdout",
     "output_type": "stream",
     "text": [
      "8.0 m/s\n"
     ]
    }
   ],
   "source": [
    "distance = unit(400, 'm')\n",
    "time = unit(50, 's')\n",
    "speed = mrpp.AverageSpeed.calculate(distance=distance, time=time)\n",
    "print(speed)"
   ]
  },
  {
   "cell_type": "markdown",
   "metadata": {},
   "source": [
    "### **Question 3**\n",
    "A cyclist travels at a constant speed of $12 \\, \\text{m/s}$ for $30 \\, \\text{s}$. What total distance does the cyclist cover?"
   ]
  },
  {
   "cell_type": "code",
   "execution_count": 5,
   "metadata": {},
   "outputs": [
    {
     "name": "stdout",
     "output_type": "stream",
     "text": [
      "360 m\n"
     ]
    }
   ],
   "source": [
    "average_speed = unit(12, 'm/s')\n",
    "time = unit(30, 's')\n",
    "speed = mrpp.AverageSpeed.distance(average_speed=average_speed, time=time)\n",
    "print(speed)"
   ]
  }
 ],
 "metadata": {
  "kernelspec": {
   "display_name": "Python 3",
   "language": "python",
   "name": "python3"
  },
  "language_info": {
   "codemirror_mode": {
    "name": "ipython",
    "version": 3
   },
   "file_extension": ".py",
   "mimetype": "text/x-python",
   "name": "python",
   "nbconvert_exporter": "python",
   "pygments_lexer": "ipython3",
   "version": "3.10.12"
  }
 },
 "nbformat": 4,
 "nbformat_minor": 2
}
