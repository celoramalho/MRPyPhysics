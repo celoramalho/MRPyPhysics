{
 "cells": [
  {
   "cell_type": "code",
   "execution_count": 1,
   "metadata": {},
   "outputs": [],
   "source": [
    "import sys\n",
    "import os\n",
    "sys.path.append(os.path.abspath(os.path.join(os.getcwd(), '../..')))\n",
    "from mrpyphysics.mrpyphysics import MRPyPhysics\n",
    "from mrpyphysics.mrpyphysics import Unit"
   ]
  },
  {
   "cell_type": "code",
   "execution_count": 2,
   "metadata": {},
   "outputs": [],
   "source": [
    "mrpp = MRPyPhysics()\n",
    "unit = Unit"
   ]
  },
  {
   "cell_type": "markdown",
   "metadata": {},
   "source": [
    "# **Uniform Rectilinear Motion (URM)**\n",
    "\n",
    "**Uniform Rectilinear Motion (URM)** refers to motion in a straight line with **constant velocity**. In this type of motion:\n",
    "- The **velocity** ($v$) remains constant.\n",
    "- The **acceleration** ($a$) is zero ($a = 0$).\n",
    "- The **displacement** ($x$) is directly proportional to time ($t$).\n",
    "\n",
    "---\n",
    "\n",
    "## **Key Characteristics**\n",
    "1. The object moves in a **straight line**.\n",
    "2. The **velocity** does not change over time.\n",
    "3. The **acceleration** is always zero ($a = 0$).\n",
    "\n",
    "---\n",
    "\n",
    "## **Important Equations**\n",
    "\n",
    "### **1. Displacement Formula**\n",
    "$$\n",
    "x = x_0 + v \\cdot t\n",
    "$$\n",
    "\n",
    "Where:\n",
    "- $x$: Final position (meters, $m$)\n",
    "- $x_0$: Initial position (meters, $m$)\n",
    "- $v$: Velocity (meters per second, $m/s$)\n",
    "- $t$: Time (seconds, $s$)\n",
    "\n",
    "---\n",
    "\n",
    "### **2. Velocity Formula**\n",
    "$$\n",
    "v = \\frac{\\Delta x}{\\Delta t}\n",
    "$$\n",
    "\n",
    "Where:\n",
    "- $v$: Velocity (meters per second, $m/s$)\n",
    "- $\\Delta x$: Displacement ($x - x_0$) in meters ($m$)\n",
    "- $\\Delta t$: Time interval (seconds, $s$)\n",
    "\n",
    "---\n",
    "\n",
    "## **Graphical Representations**\n",
    "\n",
    "1. **Position-Time Graph**:\n",
    "   - A straight line with slope equal to the velocity ($v$).\n",
    "   - The equation $x = x_0 + v \\cdot t$ represents this graph.\n",
    "\n",
    "2. **Velocity-Time Graph**:\n",
    "   - A horizontal line since the velocity is constant.\n",
    "\n",
    "---\n",
    "\n",
    "## **Example Problem**\n",
    "\n",
    "### **Problem:**\n",
    "A car starts at a position of $x_0 = 5 \\, \\text{m}$ and moves with a constant velocity of $v = 10 \\, \\text{m/s}$ for $t = 3 \\, \\text{s}$. Find its final position ($x$).\n",
    "\n",
    "### **Solution:**\n",
    "Using the displacement formula:\n",
    "$$\n",
    "x = x_0 + v \\cdot t\n",
    "$$\n",
    "\n",
    "Substitute the given values:\n",
    "$$\n",
    "x = 5 + 10 \\cdot 3 = 35 \\, \\text{m}\n",
    "$$\n",
    "\n",
    "### **Answer:**\n",
    "The car's final position is:\n",
    "$$\n",
    "x = 35 \\, \\text{m}\n",
    "$$\n",
    "\n",
    "---\n",
    "\n",
    "## **Summary**\n",
    "Uniform Rectilinear Motion is the simplest type of motion, where:\n",
    "- The velocity is constant.\n",
    "- The acceleration is zero.\n",
    "- The equations of motion are linear.\n"
   ]
  },
  {
   "cell_type": "markdown",
   "metadata": {},
   "source": [
    "### Examples of $ x = x_0 + v \\cdot t $\n",
    "### **Question 1**\n",
    "A car starts from rest at an initial position of $x_0 = 0 \\, \\text{m}$ and moves with a constant velocity of $v = 15 \\, \\text{m/s}$. Calculate its position after $t = 10 \\, \\text{s}$."
   ]
  },
  {
   "cell_type": "code",
   "execution_count": 4,
   "metadata": {},
   "outputs": [
    {
     "name": "stdout",
     "output_type": "stream",
     "text": [
      "The final position of the car is 150 m\n"
     ]
    }
   ],
   "source": [
    "initial_position = Unit(0, 'm')\n",
    "velocity = Unit(15, 'm/s')\n",
    "time_interval = Unit(10, 's')\n",
    "position = mrpp.URM.position(initial_position=initial_position, velocity=velocity, time_interval=time_interval)\n",
    "print(f\"The final position of the car is {position}\")\n"
   ]
  },
  {
   "cell_type": "markdown",
   "metadata": {},
   "source": [
    "### **Question 2**\n",
    "A cyclist maintains a constant velocity of $v = 20 \\, \\text{m/s}$ for $t = 8 \\, \\text{s}$. If the cyclist started at $x_0 = 50 \\, \\text{m}$, find the final position $x$.\n"
   ]
  },
  {
   "cell_type": "code",
   "execution_count": 6,
   "metadata": {},
   "outputs": [
    {
     "name": "stdout",
     "output_type": "stream",
     "text": [
      "The final position of the cyclist is 210 m\n"
     ]
    }
   ],
   "source": [
    "initial_position = Unit(50, 'm')\n",
    "velocity = Unit(20, 'm/s')\n",
    "time_interval = Unit(8, 's')\n",
    "position = mrpp.URM.position(initial_position=initial_position, velocity=velocity, time_interval=time_interval)\n",
    "print(f\"The final position of the cyclist is {position}\")\n"
   ]
  },
  {
   "cell_type": "markdown",
   "metadata": {},
   "source": [
    "### **Question 3**\n",
    "An airplane departs from Chicago at an initial position of $x_0 = 1000 , \\text{m}$ (measured from the airport reference point) and flies eastward with a constant velocity of $v = 250 , \\text{m/s}$.\n",
    "\n",
    "If the airplane travels for $t = 2 , \\text{minutes}$, how far will it be from the airport?\n"
   ]
  },
  {
   "cell_type": "code",
   "execution_count": 7,
   "metadata": {},
   "outputs": [
    {
     "name": "stdout",
     "output_type": "stream",
     "text": [
      "The final position of the plane is 31000 m\n"
     ]
    }
   ],
   "source": [
    "initial_position = Unit(1000, 'm')\n",
    "velocity = Unit(250, 'm/s')\n",
    "time_interval = Unit(2, 'min')\n",
    "position = mrpp.URM.position(initial_position=initial_position, velocity=velocity, time_interval=time_interval)\n",
    "print(f\"The final position of the plane is {position}\")\n"
   ]
  }
 ],
 "metadata": {
  "kernelspec": {
   "display_name": "Python 3",
   "language": "python",
   "name": "python3"
  },
  "language_info": {
   "codemirror_mode": {
    "name": "ipython",
    "version": 3
   },
   "file_extension": ".py",
   "mimetype": "text/x-python",
   "name": "python",
   "nbconvert_exporter": "python",
   "pygments_lexer": "ipython3",
   "version": "3.10.12"
  }
 },
 "nbformat": 4,
 "nbformat_minor": 2
}
