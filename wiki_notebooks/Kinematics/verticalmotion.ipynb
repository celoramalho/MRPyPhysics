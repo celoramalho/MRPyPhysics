{
 "cells": [
  {
   "cell_type": "code",
   "execution_count": 1,
   "metadata": {},
   "outputs": [],
   "source": [
    "import sys\n",
    "import os\n",
    "sys.path.append(os.path.abspath(os.path.join(os.getcwd(), '../..')))\n",
    "from mrpyphysics.mrpyphysics import MRPyPhysics\n",
    "from mrpyphysics.mrpyphysics import Unit"
   ]
  },
  {
   "cell_type": "code",
   "execution_count": 2,
   "metadata": {},
   "outputs": [],
   "source": [
    "mrpp = MRPyPhysics\n",
    "unit = Unit"
   ]
  },
  {
   "cell_type": "markdown",
   "metadata": {},
   "source": [
    "# **Vertical Motion in Physics**\n",
    "\n",
    "**Vertical motion** refers to the motion of an object under the influence of gravity along a vertical path. It is a specific case of **Uniformly Accelerated Motion (UAM)**, where the acceleration is due to gravity ($g$).\n",
    "\n",
    "---\n",
    "\n",
    "## **Key Characteristics**\n",
    "1. The acceleration is constant and equal to $g \\approx 9.8 \\, \\text{m/s}^2$ (on Earth).\n",
    "2. The motion can be **upward** (against gravity) or **downward** (with gravity).\n",
    "3. The velocity decreases when the object moves upward and increases when it moves downward.\n",
    "\n",
    "---\n",
    "\n",
    "## **Equations of Motion**\n",
    "\n",
    "The equations for vertical motion are derived from the general equations of uniformly accelerated motion, replacing the acceleration ($a$) with the gravitational acceleration ($g$).\n",
    "\n",
    "### **1. Velocity-Time Equation**\n",
    "$$\n",
    "v = v_0 - g \\cdot t\n",
    "$$\n",
    "Where:\n",
    "- $v$: Final velocity ($m/s$)\n",
    "- $v_0$: Initial velocity ($m/s$)\n",
    "- $g$: Acceleration due to gravity ($9.8 \\, m/s^2$)\n",
    "- $t$: Time ($s$)\n",
    "\n",
    "---\n",
    "\n",
    "### **2. Position-Time Equation**\n",
    "$$\n",
    "y = y_0 + v_0 \\cdot t - \\frac{1}{2} g \\cdot t^2\n",
    "$$\n",
    "Where:\n",
    "- $y$: Final position ($m$)\n",
    "- $y_0$: Initial position ($m$)\n",
    "- $v_0$: Initial velocity ($m/s$)\n",
    "- $t$: Time ($s$)\n",
    "- $g$: Acceleration due to gravity ($9.8 \\, m/s^2$)\n",
    "\n",
    "---\n",
    "\n",
    "### **3. Velocity-Displacement Equation (Torricelli's Equation)**\n",
    "$$\n",
    "v^2 = v_0^2 - 2 \\cdot g \\cdot (y - y_0)\n",
    "$$\n",
    "Where:\n",
    "- $v$: Final velocity ($m/s$)\n",
    "- $v_0$: Initial velocity ($m/s$)\n",
    "- $y$: Final position ($m$)\n",
    "- $y_0$: Initial position ($m$)\n",
    "- $g$: Acceleration due to gravity ($9.8 \\, m/s^2$)\n",
    "\n",
    "---\n",
    "\n",
    "## **Special Cases**\n",
    "\n",
    "### **1. Maximum Height**\n",
    "At the highest point of upward motion:\n",
    "- The velocity becomes zero ($v = 0$).\n",
    "- The equation simplifies to:\n",
    "  $$\n",
    "  h_{\\text{max}} = \\frac{v_0^2}{2 \\cdot g}\n",
    "  $$\n",
    "\n",
    "### **2. Time to Reach Maximum Height**\n",
    "The time to reach the maximum height is given by:\n",
    "$$\n",
    "t_{\\text{max}} = \\frac{v_0}{g}\n",
    "$$\n",
    "\n",
    "---\n",
    "\n",
    "## **Graphical Representations**\n",
    "\n",
    "1. **Position-Time Graph**:\n",
    "   - A parabolic curve, opening downward.\n",
    "\n",
    "2. **Velocity-Time Graph**:\n",
    "   - A straight line with a negative slope equal to $-g$.\n",
    "\n",
    "3. **Acceleration-Time Graph**:\n",
    "   - A horizontal line at $-g$.\n",
    "\n",
    "---\n",
    "\n",
    "## **Example Problem**\n",
    "\n",
    "### **Problem:**\n",
    "A ball is thrown vertically upward with an initial velocity of $v_0 = 20 \\, \\text{m/s}$ from a height of $y_0 = 5 \\, \\text{m}$. Calculate:\n",
    "1. The maximum height reached by the ball.\n",
    "2. The time it takes to reach the maximum height.\n",
    "3. The total time until the ball hits the ground.\n",
    "\n",
    "---\n",
    "\n",
    "### **Solution:**\n",
    "\n",
    "#### **1. Maximum Height**\n",
    "Using:\n",
    "$$\n",
    "h_{\\text{max}} = y_0 + \\frac{v_0^2}{2 \\cdot g}\n",
    "$$\n",
    "Substitute:\n",
    "$$\n",
    "h_{\\text{max}} = 5 + \\frac{20^2}{2 \\cdot 9.8} = 5 + \\frac{400}{19.6} = 5 + 20.41 = 25.41 \\, \\text{m}\n",
    "$$\n",
    "\n",
    "#### **2. Time to Reach Maximum Height**\n",
    "Using:\n",
    "$$\n",
    "t_{\\text{max}} = \\frac{v_0}{g}\n",
    "$$\n",
    "Substitute:\n",
    "$$\n",
    "t_{\\text{max}} = \\frac{20}{9.8} \\approx 2.04 \\, \\text{s}\n",
    "$$\n",
    "\n",
    "#### **3. Total Time Until the Ball Hits the Ground**\n",
    "For total time, we use the quadratic equation derived from:\n",
    "$$\n",
    "y = y_0 + v_0 \\cdot t - \\frac{1}{2} g \\cdot t^2\n",
    "$$\n",
    "Set $y = 0$ (ground level):\n",
    "$$\n",
    "0 = 5 + 20 \\cdot t - \\frac{1}{2} \\cdot 9.8 \\cdot t^2\n",
    "$$\n",
    "Simplify:\n",
    "$$\n",
    "0 = -4.9 t^2 + 20 t + 5\n",
    "$$\n",
    "Solve this quadratic equation for $t$ to get:\n",
    "$$\n",
    "t_{\\text{total}} \\approx 4.55 \\, \\text{s}\n",
    "$$\n",
    "\n",
    "---\n",
    "\n",
    "### **Answers:**\n",
    "1. Maximum height: $25.41 \\, \\text{m}$\n",
    "2. Time to maximum height: $2.04 \\, \\text{s}$\n",
    "3. Total time until the ball hits the ground: $4.55 \\, \\text{s}$\n",
    "\n",
    "---\n",
    "\n",
    "## **Summary**\n",
    "Vertical motion under gravity is an important case of uniformly accelerated motion. The key equations help us analyze the motion of objects thrown upward or dropped from a height.\n",
    "\n"
   ]
  },
  {
   "cell_type": "code",
   "execution_count": 3,
   "metadata": {},
   "outputs": [],
   "source": [
    "initial_velocity = Unit(20, 'm/s')\n",
    "initial_position = Unit(5, 'm')\n",
    "acceleration = Unit(-9.8, 'm/s^2')\n",
    "#1. The maximum height reached by the ball.\n",
    "#2. The time it takes to reach the maximum height.\n",
    "#3. The total time until the ball hits the ground.\n",
    "time_to_reach_maximum_height = mrpp.UAM.time_to_reach_maximum_height(initial_velocity=initial_velocity, acceleration=acceleration)\n",
    "maximum_height = mrpp.UAM.maximum_height(initial_velocity=initial_velocity, initial_position=initial_position, acceleration=acceleration)"
   ]
  },
  {
   "cell_type": "code",
   "execution_count": 4,
   "metadata": {},
   "outputs": [
    {
     "name": "stdout",
     "output_type": "stream",
     "text": [
      "2.0408163265306123 s\n"
     ]
    }
   ],
   "source": [
    "print(time_to_reach_maximum_height)"
   ]
  },
  {
   "cell_type": "code",
   "execution_count": 5,
   "metadata": {},
   "outputs": [
    {
     "name": "stdout",
     "output_type": "stream",
     "text": [
      "25.40816326530612 m\n"
     ]
    }
   ],
   "source": [
    "print(maximum_height)"
   ]
  },
  {
   "cell_type": "code",
   "execution_count": null,
   "metadata": {},
   "outputs": [],
   "source": []
  }
 ],
 "metadata": {
  "kernelspec": {
   "display_name": "Python 3",
   "language": "python",
   "name": "python3"
  },
  "language_info": {
   "codemirror_mode": {
    "name": "ipython",
    "version": 3
   },
   "file_extension": ".py",
   "mimetype": "text/x-python",
   "name": "python",
   "nbconvert_exporter": "python",
   "pygments_lexer": "ipython3",
   "version": "3.10.12"
  }
 },
 "nbformat": 4,
 "nbformat_minor": 2
}
