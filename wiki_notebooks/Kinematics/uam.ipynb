{
 "cells": [
  {
   "cell_type": "code",
   "execution_count": 1,
   "metadata": {},
   "outputs": [],
   "source": [
    "import sys\n",
    "import os\n",
    "sys.path.append(os.path.abspath(os.path.join(os.getcwd(), '../..')))\n",
    "from mrpyphysics.mrpyphysics import MRPyPhysics\n",
    "from mrpyphysics.mrpyphysics import Unit"
   ]
  },
  {
   "cell_type": "code",
   "execution_count": 2,
   "metadata": {},
   "outputs": [],
   "source": [
    "mrpp = MRPyPhysics\n",
    "unit = Unit"
   ]
  },
  {
   "cell_type": "markdown",
   "metadata": {},
   "source": [
    "# **Uniformly Accelerated Motion (UAM)**\n",
    "\n",
    "Uniformly Accelerated Motion (UAM) refers to motion where the **acceleration** ($a$) remains constant over time. This type of motion results in a continuous change in the velocity of the object. It is a foundational concept in kinematics.\n",
    "\n",
    "---\n",
    "\n",
    "## **Key Characteristics**\n",
    "1. The acceleration ($a$) is constant and non-zero.\n",
    "2. The velocity ($v$) changes uniformly with time.\n",
    "3. The displacement ($x$) depends quadratically on time ($t$).\n",
    "4. The equations of motion describe the relationships between displacement, velocity, acceleration, and time.\n",
    "\n",
    "---\n",
    "\n",
    "## **Equations of Motion**\n",
    "\n",
    "### **1. Average Acceleration Formula**\n",
    "$$\n",
    "a_{\\text{avg}} = \\frac{\\Delta v}{\\Delta t}\n",
    "$$\n",
    "Where:\n",
    "- $a_{\\text{avg}}$: Average acceleration ($m/s^2$)\n",
    "- $\\Delta v$: Change in velocity ($v - v_0$) in $m/s$\n",
    "- $\\Delta t$: Change in time in seconds ($s$)\n",
    "\n",
    "---\n",
    "\n",
    "### **2. Velocity-Time Equation**\n",
    "$$\n",
    "v = v_0 + a \\cdot t\n",
    "$$\n",
    "Where:\n",
    "- $v$: Final velocity ($m/s$)\n",
    "- $v_0$: Initial velocity ($m/s$)\n",
    "- $a$: Acceleration ($m/s^2$)\n",
    "- $t$: Time ($s$)\n",
    "\n",
    "---\n",
    "\n",
    "### **3. Position-Time Equation**\n",
    "$$\n",
    "x = x_0 + v_0 \\cdot t + \\frac{1}{2} a \\cdot t^2\n",
    "$$\n",
    "Where:\n",
    "- $x$: Final position ($m$)\n",
    "- $x_0$: Initial position ($m$)\n",
    "- $v_0$: Initial velocity ($m/s$)\n",
    "- $t$: Time ($s$)\n",
    "- $a$: Acceleration ($m/s^2$)\n",
    "\n",
    "---\n",
    "\n",
    "### **4. Velocity-Displacement Equation**\n",
    "$$\n",
    "v^2 = v_0^2 + 2 \\cdot a \\cdot (x - x_0)\n",
    "$$\n",
    "Where:\n",
    "- $v$: Final velocity ($m/s$)\n",
    "- $v_0$: Initial velocity ($m/s$)\n",
    "- $x$: Final position ($m$)\n",
    "- $x_0$: Initial position ($m$)\n",
    "- $a$: Acceleration ($m/s^2$)\n",
    "\n",
    "---\n",
    "\n",
    "## **Graphical Representations**\n",
    "1. **Position-Time Graph:**\n",
    "   - Parabolic curve (upward or downward depending on the sign of $a$).\n",
    "2. **Velocity-Time Graph:**\n",
    "   - Straight line with slope equal to $a$.\n",
    "3. **Acceleration-Time Graph:**\n",
    "   - Horizontal line since $a$ is constant.\n",
    "\n",
    "---\n",
    "\n",
    "## **Example Problem**\n",
    "\n",
    "### **Problem:**\n",
    "A car starts at rest ($v_0 = 0 \\, \\text{m/s}$) and accelerates uniformly at $a = 2 \\, \\text{m/s}^2$ for $t = 5 \\, \\text{s}$. Find:\n",
    "1. The final velocity ($v$).\n",
    "2. The displacement ($x$).\n",
    "3. The average acceleration ($a_{\\text{avg}}$) if the initial velocity was $v_0 = 0 \\, \\text{m/s}$ and the final velocity is $10 \\, \\text{m/s}$ over $t = 5 \\, \\text{s}$.\n",
    "\n",
    "---\n",
    "\n",
    "### **Solution:**\n",
    "\n",
    "1. Using the velocity-time equation:\n",
    "   $$\n",
    "   v = v_0 + a \\cdot t\n",
    "   $$\n",
    "   Substituting values:\n",
    "   $$\n",
    "   v = 0 + 2 \\cdot 5 = 10 \\, \\text{m/s}\n",
    "   $$\n",
    "\n",
    "2. Using the position-time equation:\n",
    "   $$\n",
    "   x = x_0 + v_0 \\cdot t + \\frac{1}{2} a \\cdot t^2\n",
    "   $$\n",
    "   Substituting values:\n",
    "   $$\n",
    "   x = 0 + 0 \\cdot 5 + \\frac{1}{2} \\cdot 2 \\cdot (5^2)\n",
    "   $$\n",
    "   $$\n",
    "   x = \\frac{1}{2} \\cdot 2 \\cdot 25 = 25 \\, \\text{m}\n",
    "   $$\n",
    "\n",
    "3. Using the average acceleration formula:\n",
    "   $$\n",
    "   a_{\\text{avg}} = \\frac{\\Delta v}{\\Delta t}\n",
    "   $$\n",
    "   Substituting values:\n",
    "   $$\n",
    "   a_{\\text{avg}} = \\frac{10 - 0}{5} = 2 \\, \\text{m/s}^2\n",
    "   $$\n",
    "\n",
    "---\n",
    "\n",
    "### **Answer:**\n",
    "1. Final velocity: $v = 10 \\, \\text{m/s}$\n",
    "2. Displacement: $x = 25 \\, \\text{m}$\n",
    "3. Average acceleration: $a_{\\text{avg}} = 2 \\, \\text{m/s}^2$\n",
    "\n",
    "---\n",
    "\n",
    "## **Summary**\n",
    "Uniformly Accelerated Motion describes motion with constant acceleration, leading to:\n",
    "- Linearly changing velocity.\n",
    "- Quadratic dependence of displacement on time.\n",
    "- A constant average acceleration when velocity changes uniformly.\n",
    "\n"
   ]
  },
  {
   "cell_type": "code",
   "execution_count": 3,
   "metadata": {},
   "outputs": [],
   "source": [
    "teste = mrpp.UAM.position(initial_position=unit(100, 'm'), initial_velocity=unit(10, 'm/s'), time_interval=unit(2, 'min'), acceleration=unit(1, 'm/s^2'))"
   ]
  },
  {
   "cell_type": "code",
   "execution_count": 4,
   "metadata": {},
   "outputs": [
    {
     "name": "stdout",
     "output_type": "stream",
     "text": [
      "8500.0 m\n"
     ]
    }
   ],
   "source": [
    "print(teste)"
   ]
  },
  {
   "cell_type": "markdown",
   "metadata": {},
   "source": [
    "### Question 1: Find Acceleration\n",
    "\n",
    "A car accelerates uniformly from rest to a velocity of $v = 20 \\, \\text{m/s}$ over a distance of $\\Delta s = 100 \\, \\text{m}$. Using Torricelli's equation calculate the acceleration $a$."
   ]
  },
  {
   "cell_type": "code",
   "execution_count": 5,
   "metadata": {},
   "outputs": [
    {
     "name": "stdout",
     "output_type": "stream",
     "text": [
      "2.0 m/s^2\n"
     ]
    }
   ],
   "source": [
    "initial_velocity = Unit(0, 'm/s')\n",
    "final_velocity = Unit(20, 'm/s')\n",
    "displacement = Unit(100, 'm')\n",
    "acceleration = mrpp.UAM.aceleration_torricelli(initial_velocity=initial_velocity, final_velocity=final_velocity, displacement=displacement)\n",
    "print(acceleration)"
   ]
  },
  {
   "cell_type": "markdown",
   "metadata": {},
   "source": [
    "### Question 2: Find Final Velocity\n",
    "\n",
    "A ball is thrown upwards with an initial velocity of $v_0 = 10 \\, \\text{m/s}$. It moves under the influence of gravity ($a = -9.8 \\, \\text{m/s}^2$) and travels a displacement of $\\Delta s = 5 \\, \\text{m}$. Using Torricelli's equation calculate the final velocity $v$ of the ball at this displacement."
   ]
  },
  {
   "cell_type": "code",
   "execution_count": 6,
   "metadata": {},
   "outputs": [
    {
     "name": "stdout",
     "output_type": "stream",
     "text": [
      "1.4142135623730951 m/s\n"
     ]
    }
   ],
   "source": [
    "initial_velocity = Unit(10, 'm/s')\n",
    "acceleration = Unit(-9.8, 'm/s^2')\n",
    "displacement = Unit(5, 'm')\n",
    "final_velocity = mrpp.UAM.final_velocity_torricelli(initial_velocity=initial_velocity, acceleration=acceleration, displacement=displacement)\n",
    "print(final_velocity)"
   ]
  },
  {
   "cell_type": "markdown",
   "metadata": {},
   "source": []
  },
  {
   "cell_type": "code",
   "execution_count": 7,
   "metadata": {},
   "outputs": [
    {
     "name": "stdout",
     "output_type": "stream",
     "text": [
      "4.040610178208843 s\n"
     ]
    }
   ],
   "source": [
    "time_to_fall = mrpp.UAM.time_to_free_fall(initial_position=unit(80, 'm'), acceleration=unit(9.8, 'm/s^2'))\n",
    "print(time_to_fall)"
   ]
  },
  {
   "cell_type": "code",
   "execution_count": null,
   "metadata": {},
   "outputs": [],
   "source": []
  },
  {
   "cell_type": "markdown",
   "metadata": {},
   "source": [
    "## **1. Positive Velocity with Positive Acceleration**\n",
    "- **Description**: The object is moving in the positive direction, and its velocity is increasing.\n",
    "- **Characteristics**:\n",
    "  - Velocity ($v$) is positive.\n",
    "  - Acceleration ($a$) is positive (same direction as velocity).\n",
    "  - The object is **speeding up** in the positive direction.\n",
    "\n",
    "---\n",
    "\n",
    "## **2. Positive Velocity with Negative Acceleration**\n",
    "- **Description**: The object is moving in the positive direction, but its velocity is decreasing.\n",
    "- **Characteristics**:\n",
    "  - Velocity ($v$) is positive.\n",
    "  - Acceleration ($a$) is negative (opposite direction to velocity).\n",
    "  - The object is **slowing down** in the positive direction.\n",
    "\n",
    "---\n",
    "\n",
    "## **3. Negative Velocity with Negative Acceleration**\n",
    "- **Description**: The object is moving in the negative direction, and its velocity is increasing (in magnitude).\n",
    "- **Characteristics**:\n",
    "  - Velocity ($v$) is negative.\n",
    "  - Acceleration ($a$) is negative (same direction as velocity).\n",
    "  - The object is **speeding up** in the negative direction.\n",
    "\n",
    "---\n",
    "\n",
    "## **4. Negative Velocity with Positive Acceleration**\n",
    "- **Description**: The object is moving in the negative direction, but its velocity is decreasing (in magnitude).\n",
    "- **Characteristics**:\n",
    "  - Velocity ($v$) is negative.\n",
    "  - Acceleration ($a$) is positive (opposite direction to velocity).\n",
    "  - The object is **slowing down** in the negative direction.\n",
    "\n",
    "---\n",
    "\n",
    "## **Summary of Motion Types**\n",
    "\n",
    "| **Type of Motion**                | **Direction of \\(v\\)** | **Direction of \\(a\\)** | **Motion Behavior**                  |\n",
    "|-----------------------------------|------------------------|------------------------|--------------------------------------|\n",
    "| Positive Velocity with Positive Acceleration | Positive (\\(v > 0\\))   | Positive (\\(a > 0\\))   | Speeds up in the positive direction  |\n",
    "| Positive Velocity with Negative Acceleration | Positive (\\(v > 0\\))   | Negative (\\(a < 0\\))   | Slows down in the positive direction |\n",
    "| Negative Velocity with Negative Acceleration | Negative (\\(v < 0\\))   | Negative (\\(a < 0\\))   | Speeds up in the negative direction  |\n",
    "| Negative Velocity with Positive Acceleration | Negative (\\(v < 0\\))   | Positive (\\(a > 0\\))   | Slows down in the negative direction |\n",
    "\n",
    "---"
   ]
  }
 ],
 "metadata": {
  "kernelspec": {
   "display_name": "Python 3",
   "language": "python",
   "name": "python3"
  },
  "language_info": {
   "codemirror_mode": {
    "name": "ipython",
    "version": 3
   },
   "file_extension": ".py",
   "mimetype": "text/x-python",
   "name": "python",
   "nbconvert_exporter": "python",
   "pygments_lexer": "ipython3",
   "version": "3.10.12"
  }
 },
 "nbformat": 4,
 "nbformat_minor": 2
}
